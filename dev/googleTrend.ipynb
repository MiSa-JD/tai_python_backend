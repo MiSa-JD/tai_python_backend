{
 "cells": [
  {
   "cell_type": "code",
   "execution_count": null,
   "id": "dd7f23e4",
   "metadata": {},
   "outputs": [],
   "source": [
    "pip install selenium webdriver-manager"
   ]
  },
  {
   "cell_type": "code",
   "execution_count": null,
   "id": "e02e289c",
   "metadata": {},
   "outputs": [],
   "source": [
    "# 웹드라이버 설치가 필요 (브러우저를 조정하기 위해서 )\n",
    "from webdriver_manager.chrome import ChromeDriverManager\n",
    "ChromeDriverManager().install()"
   ]
  },
  {
   "cell_type": "code",
   "execution_count": null,
   "id": "18394f99",
   "metadata": {},
   "outputs": [],
   "source": [
    "from selenium import webdriver\n",
    "\n",
    "# Chrome 브라우저 실행\n",
    "browser = webdriver.Chrome()\n",
    "\n",
    "# 원하는 URL로 이동\n",
    "url = \"https://trends.google.co.kr/trending?geo=KR&hl=ko\"\n",
    "browser.get(url)\n",
    "\n",
    "# browser.page_source"
   ]
  },
  {
   "cell_type": "code",
   "execution_count": null,
   "id": "42b25a24",
   "metadata": {},
   "outputs": [
    {
     "name": "stdout",
     "output_type": "stream",
     "text": [
      "as 모나코 대 토트넘\n",
      "박봄\n",
      "바이에른 대 클뤼프 브뤼허\n",
      "아인트라흐트 대 리버풀\n",
      "첼시 대 아약스\n",
      "레알 마드리드 대 유벤투스\n",
      "김영웅\n",
      "김영선\n",
      "이상경\n",
      "bangladesh vs west indies\n",
      "복기왕\n",
      "홍원기\n",
      "금값 폭락\n",
      "독도\n",
      "김천 김밥축제\n",
      "상하이 선화 대 fc 서울\n",
      "김서현\n",
      "김재원 아나운서\n",
      "india vs australia\n",
      "한림대\n",
      "고려대학교\n",
      "상강\n",
      "이태원 참사\n",
      "메이플\n",
      "티빙\n"
     ]
    }
   ],
   "source": [
    "titles = browser.find_elements(By.CLASS_NAME, 'mZ3RIc')\n",
    "for title in titles:\n",
    "    print(title.text)"
   ]
  },
  {
   "cell_type": "code",
   "execution_count": null,
   "id": "d07a52b6",
   "metadata": {},
   "outputs": [],
   "source": []
  }
 ],
 "metadata": {
  "kernelspec": {
   "display_name": "rag_chatbot",
   "language": "python",
   "name": "python3"
  },
  "language_info": {
   "codemirror_mode": {
    "name": "ipython",
    "version": 3
   },
   "file_extension": ".py",
   "mimetype": "text/x-python",
   "name": "python",
   "nbconvert_exporter": "python",
   "pygments_lexer": "ipython3",
   "version": "3.12.11"
  }
 },
 "nbformat": 4,
 "nbformat_minor": 5
}
