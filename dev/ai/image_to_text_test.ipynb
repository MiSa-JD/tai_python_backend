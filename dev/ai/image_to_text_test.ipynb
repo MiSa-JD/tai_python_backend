{
 "cells": [
  {
   "cell_type": "markdown",
   "id": "030427f3",
   "metadata": {},
   "source": [
    "## 1. GPT"
   ]
  },
  {
   "cell_type": "code",
   "execution_count": 1,
   "id": "b6a5985d",
   "metadata": {},
   "outputs": [
    {
     "data": {
      "text/plain": [
       "True"
      ]
     },
     "execution_count": 1,
     "metadata": {},
     "output_type": "execute_result"
    }
   ],
   "source": [
    "# 환경 변수 로드\n",
    "from dotenv import load_dotenv\n",
    "\n",
    "load_dotenv()"
   ]
  },
  {
   "cell_type": "code",
   "execution_count": 23,
   "id": "1088595e",
   "metadata": {},
   "outputs": [],
   "source": [
    "language = \"한국어로 대답합니다. \"\n",
    "context = \"이미지가 어떻게 보이는지 다음과 같은 json 형식으로 알려주십시오. 각각의 요소는 한 단어로만 묘사해야 합니다. \"\n",
    "context += \"fakes에는 실제론 사진에 없지만, 당신이 혼동할 뻔한 요소를 최대 5개까지 묘사합니다.\"\n",
    "form = \"\"\"\n",
    "{\n",
    "  \"contents\": [\n",
    "    \"보이는 요소 1\",\n",
    "    \"보이는 요소 2\",\n",
    "    \"보이는 요소 3\",\n",
    "    ...\n",
    "    \"보이는 요소 n\"\n",
    "  ],\n",
    "  \"fakes\": [\n",
    "    \"가짜 요소 1\",\n",
    "    \"가짜 요소 2\",\n",
    "    ...\n",
    "    \"가짜 요소 n\"\n",
    "  ]\n",
    "}\n",
    "\"\"\""
   ]
  },
  {
   "cell_type": "code",
   "execution_count": 24,
   "id": "280de9be",
   "metadata": {},
   "outputs": [
    {
     "name": "stdout",
     "output_type": "stream",
     "text": [
      "{\n",
      "  \"contents\": [\n",
      "    \"고양이\",\n",
      "    \"학생\",\n",
      "    \"강의실\",\n",
      "    \"책상\",\n",
      "    \"의자\",\n",
      "    \"창문\",\n",
      "    \"블라인드\",\n",
      "    \"시계\",\n",
      "    \"형광등\",\n",
      "    \"로고\",\n",
      "    \"자막\"\n",
      "  ],\n",
      "  \"fakes\": [\n",
      "    \"교사\",\n",
      "    \"교탁\",\n",
      "    \"마이크\",\n",
      "    \"칠판\",\n",
      "    \"프로젝터\"\n",
      "  ]\n",
      "}\n"
     ]
    }
   ],
   "source": [
    "from openai import OpenAI\n",
    "\n",
    "client = OpenAI()\n",
    "\n",
    "response = client.responses.create(\n",
    "    model=\"gpt-5-mini\",\n",
    "    input=[{\n",
    "        \"role\": \"user\",\n",
    "        \"content\": [\n",
    "            {\"type\": \"input_text\", \"text\": language + context + form},\n",
    "            {\n",
    "                \"type\": \"input_image\",\n",
    "                \"image_url\": \"https://i.ytimg.com/vi/A7wP87m-Hy4/hq720.jpg?sqp=-oaymwEhCK4FEIIDSFryq4qpAxMIARUAAAAAGAElAADIQj0AgKJD&rs=AOn4CLD08htQV_KaSvI94tGYtvYJ-iIujQ\",\n",
    "            },\n",
    "        ],\n",
    "    }],\n",
    ")\n",
    "\n",
    "print(response.output_text)"
   ]
  },
  {
   "cell_type": "code",
   "execution_count": 25,
   "id": "3d304cbe",
   "metadata": {},
   "outputs": [
    {
     "name": "stdout",
     "output_type": "stream",
     "text": [
      "['고양이', '학생', '강의실', '책상', '의자', '창문', '블라인드', '시계', '형광등', '로고', '자막']\n",
      "['교사', '교탁', '마이크', '칠판', '프로젝터']\n"
     ]
    }
   ],
   "source": [
    "import json\n",
    "\n",
    "data = json.loads(response.output_text)\n",
    "real = data[\"contents\"]\n",
    "fake = data[\"fakes\"]\n",
    "print(real)\n",
    "print(fake)"
   ]
  },
  {
   "cell_type": "code",
   "execution_count": null,
   "id": "e777b594",
   "metadata": {},
   "outputs": [],
   "source": []
  }
 ],
 "metadata": {
  "kernelspec": {
   "display_name": "base",
   "language": "python",
   "name": "python3"
  },
  "language_info": {
   "codemirror_mode": {
    "name": "ipython",
    "version": 3
   },
   "file_extension": ".py",
   "mimetype": "text/x-python",
   "name": "python",
   "nbconvert_exporter": "python",
   "pygments_lexer": "ipython3",
   "version": "3.13.5"
  }
 },
 "nbformat": 4,
 "nbformat_minor": 5
}
