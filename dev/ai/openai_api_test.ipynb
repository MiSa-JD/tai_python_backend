{
 "cells": [
  {
   "cell_type": "markdown",
   "id": "cc214281",
   "metadata": {},
   "source": [
    "# OpenAI API 불러오기 테스트"
   ]
  },
  {
   "cell_type": "code",
   "execution_count": null,
   "id": "16c3d546",
   "metadata": {},
   "outputs": [],
   "source": [
    "%pip install --quiet --disable-pip-version-check -r ../../requirements.txt"
   ]
  },
  {
   "cell_type": "code",
   "execution_count": 2,
   "id": "17c69b1c",
   "metadata": {},
   "outputs": [
    {
     "name": "stdout",
     "output_type": "stream",
     "text": [
      "Requirement already satisfied: langchain in /Users/jeong-ug/.pyenv/versions/anaconda3-2025.06-0/lib/python3.13/site-packages (1.0.2)\n",
      "Collecting langchain-openai\n",
      "  Downloading langchain_openai-1.0.1-py3-none-any.whl.metadata (1.8 kB)\n",
      "Collecting langchain-community\n",
      "  Downloading langchain_community-0.4-py3-none-any.whl.metadata (3.0 kB)\n",
      "Collecting faiss-cpu\n",
      "  Downloading faiss_cpu-1.12.0-cp313-cp313-macosx_14_0_arm64.whl.metadata (5.1 kB)\n",
      "Requirement already satisfied: pydantic in /Users/jeong-ug/.pyenv/versions/anaconda3-2025.06-0/lib/python3.13/site-packages (2.10.3)\n",
      "Collecting pydantic\n",
      "  Downloading pydantic-2.12.3-py3-none-any.whl.metadata (87 kB)\n",
      "Requirement already satisfied: langchain-core<2.0.0,>=1.0.0 in /Users/jeong-ug/.pyenv/versions/anaconda3-2025.06-0/lib/python3.13/site-packages (from langchain) (1.0.0)\n",
      "Requirement already satisfied: langgraph<1.1.0,>=1.0.0 in /Users/jeong-ug/.pyenv/versions/anaconda3-2025.06-0/lib/python3.13/site-packages (from langchain) (1.0.1)\n",
      "Requirement already satisfied: annotated-types>=0.6.0 in /Users/jeong-ug/.pyenv/versions/anaconda3-2025.06-0/lib/python3.13/site-packages (from pydantic) (0.6.0)\n",
      "Collecting pydantic-core==2.41.4 (from pydantic)\n",
      "  Downloading pydantic_core-2.41.4-cp313-cp313-macosx_11_0_arm64.whl.metadata (7.3 kB)\n",
      "Requirement already satisfied: typing-extensions>=4.14.1 in /Users/jeong-ug/.pyenv/versions/anaconda3-2025.06-0/lib/python3.13/site-packages (from pydantic) (4.15.0)\n",
      "Collecting typing-inspection>=0.4.2 (from pydantic)\n",
      "  Using cached typing_inspection-0.4.2-py3-none-any.whl.metadata (2.6 kB)\n",
      "Requirement already satisfied: jsonpatch<2.0.0,>=1.33.0 in /Users/jeong-ug/.pyenv/versions/anaconda3-2025.06-0/lib/python3.13/site-packages (from langchain-core<2.0.0,>=1.0.0->langchain) (1.33)\n",
      "Requirement already satisfied: langsmith<1.0.0,>=0.3.45 in /Users/jeong-ug/.pyenv/versions/anaconda3-2025.06-0/lib/python3.13/site-packages (from langchain-core<2.0.0,>=1.0.0->langchain) (0.4.37)\n",
      "Requirement already satisfied: packaging<26.0.0,>=23.2.0 in /Users/jeong-ug/.pyenv/versions/anaconda3-2025.06-0/lib/python3.13/site-packages (from langchain-core<2.0.0,>=1.0.0->langchain) (24.2)\n",
      "Requirement already satisfied: pyyaml<7.0.0,>=5.3.0 in /Users/jeong-ug/.pyenv/versions/anaconda3-2025.06-0/lib/python3.13/site-packages (from langchain-core<2.0.0,>=1.0.0->langchain) (6.0.2)\n",
      "Requirement already satisfied: tenacity!=8.4.0,<10.0.0,>=8.1.0 in /Users/jeong-ug/.pyenv/versions/anaconda3-2025.06-0/lib/python3.13/site-packages (from langchain-core<2.0.0,>=1.0.0->langchain) (9.0.0)\n",
      "Requirement already satisfied: jsonpointer>=1.9 in /Users/jeong-ug/.pyenv/versions/anaconda3-2025.06-0/lib/python3.13/site-packages (from jsonpatch<2.0.0,>=1.33.0->langchain-core<2.0.0,>=1.0.0->langchain) (2.1)\n",
      "Requirement already satisfied: langgraph-checkpoint<4.0.0,>=2.1.0 in /Users/jeong-ug/.pyenv/versions/anaconda3-2025.06-0/lib/python3.13/site-packages (from langgraph<1.1.0,>=1.0.0->langchain) (3.0.0)\n",
      "Requirement already satisfied: langgraph-prebuilt<1.1.0,>=1.0.0 in /Users/jeong-ug/.pyenv/versions/anaconda3-2025.06-0/lib/python3.13/site-packages (from langgraph<1.1.0,>=1.0.0->langchain) (1.0.1)\n",
      "Requirement already satisfied: langgraph-sdk<0.3.0,>=0.2.2 in /Users/jeong-ug/.pyenv/versions/anaconda3-2025.06-0/lib/python3.13/site-packages (from langgraph<1.1.0,>=1.0.0->langchain) (0.2.9)\n",
      "Requirement already satisfied: xxhash>=3.5.0 in /Users/jeong-ug/.pyenv/versions/anaconda3-2025.06-0/lib/python3.13/site-packages (from langgraph<1.1.0,>=1.0.0->langchain) (3.6.0)\n",
      "Requirement already satisfied: ormsgpack>=1.10.0 in /Users/jeong-ug/.pyenv/versions/anaconda3-2025.06-0/lib/python3.13/site-packages (from langgraph-checkpoint<4.0.0,>=2.1.0->langgraph<1.1.0,>=1.0.0->langchain) (1.11.0)\n",
      "Requirement already satisfied: httpx>=0.25.2 in /Users/jeong-ug/.pyenv/versions/anaconda3-2025.06-0/lib/python3.13/site-packages (from langgraph-sdk<0.3.0,>=0.2.2->langgraph<1.1.0,>=1.0.0->langchain) (0.28.1)\n",
      "Requirement already satisfied: orjson>=3.10.1 in /Users/jeong-ug/.pyenv/versions/anaconda3-2025.06-0/lib/python3.13/site-packages (from langgraph-sdk<0.3.0,>=0.2.2->langgraph<1.1.0,>=1.0.0->langchain) (3.11.3)\n",
      "Requirement already satisfied: requests-toolbelt>=1.0.0 in /Users/jeong-ug/.pyenv/versions/anaconda3-2025.06-0/lib/python3.13/site-packages (from langsmith<1.0.0,>=0.3.45->langchain-core<2.0.0,>=1.0.0->langchain) (1.0.0)\n",
      "Requirement already satisfied: requests>=2.0.0 in /Users/jeong-ug/.pyenv/versions/anaconda3-2025.06-0/lib/python3.13/site-packages (from langsmith<1.0.0,>=0.3.45->langchain-core<2.0.0,>=1.0.0->langchain) (2.32.3)\n",
      "Requirement already satisfied: zstandard>=0.23.0 in /Users/jeong-ug/.pyenv/versions/anaconda3-2025.06-0/lib/python3.13/site-packages (from langsmith<1.0.0,>=0.3.45->langchain-core<2.0.0,>=1.0.0->langchain) (0.23.0)\n",
      "Requirement already satisfied: anyio in /Users/jeong-ug/.pyenv/versions/anaconda3-2025.06-0/lib/python3.13/site-packages (from httpx>=0.25.2->langgraph-sdk<0.3.0,>=0.2.2->langgraph<1.1.0,>=1.0.0->langchain) (4.7.0)\n",
      "Requirement already satisfied: certifi in /Users/jeong-ug/.pyenv/versions/anaconda3-2025.06-0/lib/python3.13/site-packages (from httpx>=0.25.2->langgraph-sdk<0.3.0,>=0.2.2->langgraph<1.1.0,>=1.0.0->langchain) (2025.10.5)\n",
      "Requirement already satisfied: httpcore==1.* in /Users/jeong-ug/.pyenv/versions/anaconda3-2025.06-0/lib/python3.13/site-packages (from httpx>=0.25.2->langgraph-sdk<0.3.0,>=0.2.2->langgraph<1.1.0,>=1.0.0->langchain) (1.0.9)\n",
      "Requirement already satisfied: idna in /Users/jeong-ug/.pyenv/versions/anaconda3-2025.06-0/lib/python3.13/site-packages (from httpx>=0.25.2->langgraph-sdk<0.3.0,>=0.2.2->langgraph<1.1.0,>=1.0.0->langchain) (3.7)\n",
      "Requirement already satisfied: h11>=0.16 in /Users/jeong-ug/.pyenv/versions/anaconda3-2025.06-0/lib/python3.13/site-packages (from httpcore==1.*->httpx>=0.25.2->langgraph-sdk<0.3.0,>=0.2.2->langgraph<1.1.0,>=1.0.0->langchain) (0.16.0)\n",
      "Collecting openai<3.0.0,>=1.109.1 (from langchain-openai)\n",
      "  Downloading openai-2.6.0-py3-none-any.whl.metadata (29 kB)\n",
      "Collecting tiktoken<1.0.0,>=0.7.0 (from langchain-openai)\n",
      "  Downloading tiktoken-0.12.0-cp313-cp313-macosx_11_0_arm64.whl.metadata (6.7 kB)\n",
      "Requirement already satisfied: distro<2,>=1.7.0 in /Users/jeong-ug/.pyenv/versions/anaconda3-2025.06-0/lib/python3.13/site-packages (from openai<3.0.0,>=1.109.1->langchain-openai) (1.9.0)\n",
      "Collecting jiter<1,>=0.10.0 (from openai<3.0.0,>=1.109.1->langchain-openai)\n",
      "  Downloading jiter-0.11.1-cp313-cp313-macosx_11_0_arm64.whl.metadata (5.2 kB)\n",
      "Requirement already satisfied: sniffio in /Users/jeong-ug/.pyenv/versions/anaconda3-2025.06-0/lib/python3.13/site-packages (from openai<3.0.0,>=1.109.1->langchain-openai) (1.3.0)\n",
      "Requirement already satisfied: tqdm>4 in /Users/jeong-ug/.pyenv/versions/anaconda3-2025.06-0/lib/python3.13/site-packages (from openai<3.0.0,>=1.109.1->langchain-openai) (4.67.1)\n",
      "Requirement already satisfied: regex>=2022.1.18 in /Users/jeong-ug/.pyenv/versions/anaconda3-2025.06-0/lib/python3.13/site-packages (from tiktoken<1.0.0,>=0.7.0->langchain-openai) (2024.11.6)\n",
      "Collecting langchain-classic<2.0.0,>=1.0.0 (from langchain-community)\n",
      "  Downloading langchain_classic-1.0.0-py3-none-any.whl.metadata (3.9 kB)\n",
      "Requirement already satisfied: SQLAlchemy<3.0.0,>=1.4.0 in /Users/jeong-ug/.pyenv/versions/anaconda3-2025.06-0/lib/python3.13/site-packages (from langchain-community) (2.0.39)\n",
      "Collecting requests>=2.0.0 (from langsmith<1.0.0,>=0.3.45->langchain-core<2.0.0,>=1.0.0->langchain)\n",
      "  Downloading requests-2.32.5-py3-none-any.whl.metadata (4.9 kB)\n",
      "Requirement already satisfied: aiohttp<4.0.0,>=3.8.3 in /Users/jeong-ug/.pyenv/versions/anaconda3-2025.06-0/lib/python3.13/site-packages (from langchain-community) (3.11.10)\n",
      "Collecting dataclasses-json<0.7.0,>=0.6.7 (from langchain-community)\n",
      "  Downloading dataclasses_json-0.6.7-py3-none-any.whl.metadata (25 kB)\n",
      "Collecting pydantic-settings<3.0.0,>=2.10.1 (from langchain-community)\n",
      "  Downloading pydantic_settings-2.11.0-py3-none-any.whl.metadata (3.4 kB)\n",
      "Collecting httpx-sse<1.0.0,>=0.4.0 (from langchain-community)\n",
      "  Downloading httpx_sse-0.4.3-py3-none-any.whl.metadata (9.7 kB)\n",
      "Requirement already satisfied: numpy>=2.1.0 in /Users/jeong-ug/.pyenv/versions/anaconda3-2025.06-0/lib/python3.13/site-packages (from langchain-community) (2.1.3)\n",
      "Requirement already satisfied: aiohappyeyeballs>=2.3.0 in /Users/jeong-ug/.pyenv/versions/anaconda3-2025.06-0/lib/python3.13/site-packages (from aiohttp<4.0.0,>=3.8.3->langchain-community) (2.4.4)\n",
      "Requirement already satisfied: aiosignal>=1.1.2 in /Users/jeong-ug/.pyenv/versions/anaconda3-2025.06-0/lib/python3.13/site-packages (from aiohttp<4.0.0,>=3.8.3->langchain-community) (1.2.0)\n",
      "Requirement already satisfied: attrs>=17.3.0 in /Users/jeong-ug/.pyenv/versions/anaconda3-2025.06-0/lib/python3.13/site-packages (from aiohttp<4.0.0,>=3.8.3->langchain-community) (24.3.0)\n",
      "Requirement already satisfied: frozenlist>=1.1.1 in /Users/jeong-ug/.pyenv/versions/anaconda3-2025.06-0/lib/python3.13/site-packages (from aiohttp<4.0.0,>=3.8.3->langchain-community) (1.5.0)\n",
      "Requirement already satisfied: multidict<7.0,>=4.5 in /Users/jeong-ug/.pyenv/versions/anaconda3-2025.06-0/lib/python3.13/site-packages (from aiohttp<4.0.0,>=3.8.3->langchain-community) (6.1.0)\n",
      "Requirement already satisfied: propcache>=0.2.0 in /Users/jeong-ug/.pyenv/versions/anaconda3-2025.06-0/lib/python3.13/site-packages (from aiohttp<4.0.0,>=3.8.3->langchain-community) (0.3.1)\n",
      "Requirement already satisfied: yarl<2.0,>=1.17.0 in /Users/jeong-ug/.pyenv/versions/anaconda3-2025.06-0/lib/python3.13/site-packages (from aiohttp<4.0.0,>=3.8.3->langchain-community) (1.18.0)\n",
      "Collecting marshmallow<4.0.0,>=3.18.0 (from dataclasses-json<0.7.0,>=0.6.7->langchain-community)\n",
      "  Downloading marshmallow-3.26.1-py3-none-any.whl.metadata (7.3 kB)\n",
      "Collecting typing-inspect<1,>=0.4.0 (from dataclasses-json<0.7.0,>=0.6.7->langchain-community)\n",
      "  Downloading typing_inspect-0.9.0-py3-none-any.whl.metadata (1.5 kB)\n",
      "Collecting langchain-text-splitters<2.0.0,>=1.0.0 (from langchain-classic<2.0.0,>=1.0.0->langchain-community)\n",
      "  Downloading langchain_text_splitters-1.0.0-py3-none-any.whl.metadata (2.6 kB)\n",
      "Requirement already satisfied: python-dotenv>=0.21.0 in /Users/jeong-ug/.pyenv/versions/anaconda3-2025.06-0/lib/python3.13/site-packages (from pydantic-settings<3.0.0,>=2.10.1->langchain-community) (1.1.0)\n",
      "Requirement already satisfied: charset_normalizer<4,>=2 in /Users/jeong-ug/.pyenv/versions/anaconda3-2025.06-0/lib/python3.13/site-packages (from requests>=2.0.0->langsmith<1.0.0,>=0.3.45->langchain-core<2.0.0,>=1.0.0->langchain) (3.3.2)\n",
      "Requirement already satisfied: urllib3<3,>=1.21.1 in /Users/jeong-ug/.pyenv/versions/anaconda3-2025.06-0/lib/python3.13/site-packages (from requests>=2.0.0->langsmith<1.0.0,>=0.3.45->langchain-core<2.0.0,>=1.0.0->langchain) (2.5.0)\n",
      "Requirement already satisfied: mypy-extensions>=0.3.0 in /Users/jeong-ug/.pyenv/versions/anaconda3-2025.06-0/lib/python3.13/site-packages (from typing-inspect<1,>=0.4.0->dataclasses-json<0.7.0,>=0.6.7->langchain-community) (1.0.0)\n",
      "Downloading pydantic-2.12.3-py3-none-any.whl (462 kB)\n",
      "Downloading pydantic_core-2.41.4-cp313-cp313-macosx_11_0_arm64.whl (1.9 MB)\n",
      "\u001b[2K   \u001b[38;2;114;156;31m━━━━━━━━━━━━━━━━━━━━━━━━━━━━━━━━━━━━━━━━\u001b[0m \u001b[32m1.9/1.9 MB\u001b[0m \u001b[31m3.9 MB/s\u001b[0m eta \u001b[36m0:00:00\u001b[0m[31m4.0 MB/s\u001b[0m eta \u001b[36m0:00:01\u001b[0m\n",
      "\u001b[?25hDownloading langchain_openai-1.0.1-py3-none-any.whl (81 kB)\n",
      "Downloading openai-2.6.0-py3-none-any.whl (1.0 MB)\n",
      "\u001b[2K   \u001b[38;2;114;156;31m━━━━━━━━━━━━━━━━━━━━━━━━━━━━━━━━━━━━━━━━\u001b[0m \u001b[32m1.0/1.0 MB\u001b[0m \u001b[31m4.0 MB/s\u001b[0m eta \u001b[36m0:00:00\u001b[0m MB/s\u001b[0m eta \u001b[36m0:00:01\u001b[0m\n",
      "\u001b[?25hDownloading jiter-0.11.1-cp313-cp313-macosx_11_0_arm64.whl (314 kB)\n",
      "Downloading tiktoken-0.12.0-cp313-cp313-macosx_11_0_arm64.whl (993 kB)\n",
      "\u001b[2K   \u001b[38;2;114;156;31m━━━━━━━━━━━━━━━━━━━━━━━━━━━━━━━━━━━━━━━━\u001b[0m \u001b[32m994.0/994.0 kB\u001b[0m \u001b[31m4.5 MB/s\u001b[0m eta \u001b[36m0:00:00\u001b[0m[31m4.4 MB/s\u001b[0m eta \u001b[36m0:00:01\u001b[0m\n",
      "\u001b[?25hDownloading langchain_community-0.4-py3-none-any.whl (2.5 MB)\n",
      "\u001b[2K   \u001b[38;2;114;156;31m━━━━━━━━━━━━━━━━━━━━━━━━━━━━━━━━━━━━━━━━\u001b[0m \u001b[32m2.5/2.5 MB\u001b[0m \u001b[31m4.0 MB/s\u001b[0m eta \u001b[36m0:00:00\u001b[0m[31m4.3 MB/s\u001b[0m eta \u001b[36m0:00:01\u001b[0m\n",
      "\u001b[?25hDownloading dataclasses_json-0.6.7-py3-none-any.whl (28 kB)\n",
      "Downloading httpx_sse-0.4.3-py3-none-any.whl (9.0 kB)\n",
      "Downloading langchain_classic-1.0.0-py3-none-any.whl (1.0 MB)\n",
      "\u001b[2K   \u001b[38;2;114;156;31m━━━━━━━━━━━━━━━━━━━━━━━━━━━━━━━━━━━━━━━━\u001b[0m \u001b[32m1.0/1.0 MB\u001b[0m \u001b[31m4.0 MB/s\u001b[0m eta \u001b[36m0:00:00\u001b[0m MB/s\u001b[0m eta \u001b[36m0:00:01\u001b[0m\n",
      "\u001b[?25hDownloading langchain_text_splitters-1.0.0-py3-none-any.whl (33 kB)\n",
      "Downloading marshmallow-3.26.1-py3-none-any.whl (50 kB)\n",
      "Downloading pydantic_settings-2.11.0-py3-none-any.whl (48 kB)\n",
      "Downloading requests-2.32.5-py3-none-any.whl (64 kB)\n",
      "Downloading typing_inspect-0.9.0-py3-none-any.whl (8.8 kB)\n",
      "Downloading faiss_cpu-1.12.0-cp313-cp313-macosx_14_0_arm64.whl (3.4 MB)\n",
      "\u001b[2K   \u001b[38;2;114;156;31m━━━━━━━━━━━━━━━━━━━━━━━━━━━━━━━━━━━━━━━━\u001b[0m \u001b[32m3.4/3.4 MB\u001b[0m \u001b[31m4.1 MB/s\u001b[0m eta \u001b[36m0:00:00\u001b[0m MB/s\u001b[0m eta \u001b[36m0:00:01\u001b[0m:01\u001b[0m\n",
      "\u001b[?25hUsing cached typing_inspection-0.4.2-py3-none-any.whl (14 kB)\n",
      "Installing collected packages: typing-inspection, typing-inspect, requests, pydantic-core, marshmallow, jiter, httpx-sse, faiss-cpu, tiktoken, pydantic, dataclasses-json, pydantic-settings, openai, langchain-text-splitters, langchain-openai, langchain-classic, langchain-community\n",
      "\u001b[2K  Attempting uninstall: requests\n",
      "\u001b[2K    Found existing installation: requests 2.32.3\n",
      "\u001b[2K    Uninstalling requests-2.32.3:\n",
      "\u001b[2K      Successfully uninstalled requests-2.32.3\n",
      "\u001b[2K  Attempting uninstall: pydantic-core\n",
      "\u001b[2K    Found existing installation: pydantic_core 2.27.1\n",
      "\u001b[2K    Uninstalling pydantic_core-2.27.1:\n",
      "\u001b[2K      Successfully uninstalled pydantic_core-2.27.1\n",
      "\u001b[2K  Attempting uninstall: pydantic━━━━━\u001b[0m\u001b[38;5;237m╺\u001b[0m\u001b[38;5;237m━━━━━━━━━━━━━━━━━━━━━━━\u001b[0m \u001b[32m 7/17\u001b[0m [faiss-cpu]\n",
      "\u001b[2K    Found existing installation: pydantic 2.10.3╺\u001b[0m\u001b[38;5;237m━━━━━━━━━━━━━━━━━━━━━━━\u001b[0m \u001b[32m 7/17\u001b[0m [faiss-cpu]\n",
      "\u001b[2K    Uninstalling pydantic-2.10.3:\u001b[0m\u001b[38;5;237m╺\u001b[0m\u001b[38;5;237m━━━━━━━━━━━━━━━━━━━━━━━\u001b[0m \u001b[32m 7/17\u001b[0m [faiss-cpu]\n",
      "\u001b[2K      Successfully uninstalled pydantic-2.10.37m╺\u001b[0m\u001b[38;5;237m━━━━━━━━━━━━━━━━━━━━━━━\u001b[0m \u001b[32m 7/17\u001b[0m [faiss-cpu]\n",
      "\u001b[2K  Attempting uninstall: pydantic-settings━\u001b[0m\u001b[38;5;237m╺\u001b[0m\u001b[38;5;237m━━━━━━━━━━━━━━━━━━\u001b[0m \u001b[32m 9/17\u001b[0m [pydantic]\n",
      "\u001b[2K    Found existing installation: pydantic-settings 2.6.10m\u001b[38;5;237m━━━━━━━━━━━━━━━━━━\u001b[0m \u001b[32m 9/17\u001b[0m [pydantic]\n",
      "\u001b[2K    Uninstalling pydantic-settings-2.6.1:m\u001b[38;5;237m╺\u001b[0m\u001b[38;5;237m━━━━━━━━━━━━━━━━━━\u001b[0m \u001b[32m 9/17\u001b[0m [pydantic]\n",
      "\u001b[2K      Successfully uninstalled pydantic-settings-2.6.1\u001b[0m\u001b[38;5;237m━━━━━━━━━━━━━━━━━━\u001b[0m \u001b[32m 9/17\u001b[0m [pydantic]\n",
      "\u001b[2K   \u001b[38;2;114;156;31m━━━━━━━━━━━━━━━━━━━━━━━━━━━━━━━━━━━━━━━━\u001b[0m \u001b[32m17/17\u001b[0m [langchain-community] \u001b[32m16/17\u001b[0m [langchain-community]\n",
      "\u001b[1A\u001b[2KSuccessfully installed dataclasses-json-0.6.7 faiss-cpu-1.12.0 httpx-sse-0.4.3 jiter-0.11.1 langchain-classic-1.0.0 langchain-community-0.4 langchain-openai-1.0.1 langchain-text-splitters-1.0.0 marshmallow-3.26.1 openai-2.6.0 pydantic-2.12.3 pydantic-core-2.41.4 pydantic-settings-2.11.0 requests-2.32.5 tiktoken-0.12.0 typing-inspect-0.9.0 typing-inspection-0.4.2\n",
      "Note: you may need to restart the kernel to use updated packages.\n",
      "Requirement already satisfied: openai in /Users/jeong-ug/.pyenv/versions/anaconda3-2025.06-0/lib/python3.13/site-packages (2.6.0)\n",
      "Requirement already satisfied: anyio<5,>=3.5.0 in /Users/jeong-ug/.pyenv/versions/anaconda3-2025.06-0/lib/python3.13/site-packages (from openai) (4.7.0)\n",
      "Requirement already satisfied: distro<2,>=1.7.0 in /Users/jeong-ug/.pyenv/versions/anaconda3-2025.06-0/lib/python3.13/site-packages (from openai) (1.9.0)\n",
      "Requirement already satisfied: httpx<1,>=0.23.0 in /Users/jeong-ug/.pyenv/versions/anaconda3-2025.06-0/lib/python3.13/site-packages (from openai) (0.28.1)\n",
      "Requirement already satisfied: jiter<1,>=0.10.0 in /Users/jeong-ug/.pyenv/versions/anaconda3-2025.06-0/lib/python3.13/site-packages (from openai) (0.11.1)\n",
      "Requirement already satisfied: pydantic<3,>=1.9.0 in /Users/jeong-ug/.pyenv/versions/anaconda3-2025.06-0/lib/python3.13/site-packages (from openai) (2.12.3)\n",
      "Requirement already satisfied: sniffio in /Users/jeong-ug/.pyenv/versions/anaconda3-2025.06-0/lib/python3.13/site-packages (from openai) (1.3.0)\n",
      "Requirement already satisfied: tqdm>4 in /Users/jeong-ug/.pyenv/versions/anaconda3-2025.06-0/lib/python3.13/site-packages (from openai) (4.67.1)\n",
      "Requirement already satisfied: typing-extensions<5,>=4.11 in /Users/jeong-ug/.pyenv/versions/anaconda3-2025.06-0/lib/python3.13/site-packages (from openai) (4.15.0)\n",
      "Requirement already satisfied: idna>=2.8 in /Users/jeong-ug/.pyenv/versions/anaconda3-2025.06-0/lib/python3.13/site-packages (from anyio<5,>=3.5.0->openai) (3.7)\n",
      "Requirement already satisfied: certifi in /Users/jeong-ug/.pyenv/versions/anaconda3-2025.06-0/lib/python3.13/site-packages (from httpx<1,>=0.23.0->openai) (2025.10.5)\n",
      "Requirement already satisfied: httpcore==1.* in /Users/jeong-ug/.pyenv/versions/anaconda3-2025.06-0/lib/python3.13/site-packages (from httpx<1,>=0.23.0->openai) (1.0.9)\n",
      "Requirement already satisfied: h11>=0.16 in /Users/jeong-ug/.pyenv/versions/anaconda3-2025.06-0/lib/python3.13/site-packages (from httpcore==1.*->httpx<1,>=0.23.0->openai) (0.16.0)\n",
      "Requirement already satisfied: annotated-types>=0.6.0 in /Users/jeong-ug/.pyenv/versions/anaconda3-2025.06-0/lib/python3.13/site-packages (from pydantic<3,>=1.9.0->openai) (0.6.0)\n",
      "Requirement already satisfied: pydantic-core==2.41.4 in /Users/jeong-ug/.pyenv/versions/anaconda3-2025.06-0/lib/python3.13/site-packages (from pydantic<3,>=1.9.0->openai) (2.41.4)\n",
      "Requirement already satisfied: typing-inspection>=0.4.2 in /Users/jeong-ug/.pyenv/versions/anaconda3-2025.06-0/lib/python3.13/site-packages (from pydantic<3,>=1.9.0->openai) (0.4.2)\n",
      "Note: you may need to restart the kernel to use updated packages.\n"
     ]
    }
   ],
   "source": [
    "%pip install -U langchain langchain-openai langchain-community faiss-cpu pydantic\n",
    "%pip install -U openai"
   ]
  },
  {
   "cell_type": "code",
   "execution_count": 35,
   "id": "d409f74e",
   "metadata": {},
   "outputs": [
    {
     "data": {
      "text/plain": [
       "True"
      ]
     },
     "execution_count": 35,
     "metadata": {},
     "output_type": "execute_result"
    }
   ],
   "source": [
    "# 환경 변수 로드\n",
    "from dotenv import load_dotenv\n",
    "\n",
    "load_dotenv()"
   ]
  },
  {
   "cell_type": "code",
   "execution_count": null,
   "id": "19646879",
   "metadata": {},
   "outputs": [],
   "source": [
    "# 사용할 llm 정의\n",
    "from langchain_openai import ChatOpenAI\n",
    "\n",
    "llm = ChatOpenAI(model=\"gpt-4o\") # 사용할 모델 선정\n",
    "                                  # 현재 5는 사용자 인증을 받아야 사용가능\n"
   ]
  },
  {
   "cell_type": "code",
   "execution_count": null,
   "id": "964b8a1e",
   "metadata": {},
   "outputs": [
    {
     "name": "stdout",
     "output_type": "stream",
     "text": [
      "LangChain은 자연어 처리를 위한 파이썬 라이브러리로, 특히 복잡한 자연어 어플리케이션을 구축하기 위해 설계되었습니다. 이 라이브러리는 다양한 언어 모델과 통합하여 더 발전된 기능을 제공하며, 사용자에게 대화형 AI를 구현할 수 있는 강력한 도구를 제공합니다.\n",
      "\n",
      "LangChain의 주요 특징 중 하나는 모듈화된 접근법으로, 개발자가 여러 구성 요소를 결합하여 맞춤형 애플리케이션을 쉽게 만들 수 있도록 합니다. 또한, 다양한 데이터 소스 및 외부 API와의 통합이 용이하여, 사용자 정의 작업에 필요한 데이터 활용을 극대화할 수 있습니다.\n",
      "\n",
      "주요 기능은 다음과 같습니다:\n",
      "\n",
      "1. **모델 래핑(Wrapping):** 언어 모델을 래핑하여 일관된 인터페이스를 제공하며, 이를 통해 다양한 모델과 쉽게 상호작용할 수 있습니다.\n",
      "\n",
      "2. **데이터 연결성:** 여러 데이터 소스와의 연결을 지원하여 외부 정보를 가져오거나 전처리할 수 있게 해줍니다.\n",
      "\n",
      "3. **더 나은 대화 흐름:** 복잡한 대화 흐름 관리 및 상태 유지 기능을 제공하여 대화형 AI 애플리케이션의 품질을 높입니다.\n",
      "\n",
      "4. **확장성:** 필요에 따라 기능을 확장할 수 있는 유연성을 제공하므로, 작은 프로젝트부터 대규모 애플리케이션까지 다양한 요구를 충족할 수 있습니다.\n",
      "\n",
      "LangChain은 이러한 다양한 기능을 통해 개발자가 자연어 처리 및 대화형 AI 시스템을 쉽게 구축하고 관리할 수 있도록 지원하며, AI 기반의 혁신적인 솔루션 개발을 가능하게 합니다.\n"
     ]
    }
   ],
   "source": [
    "# 한 번에 모아서 출력\n",
    "res = llm.invoke(\"LangChain에 대해 알려주세요\")\n",
    "print(res.content)"
   ]
  },
  {
   "cell_type": "code",
   "execution_count": 22,
   "id": "15f7dec3",
   "metadata": {},
   "outputs": [
    {
     "name": "stdout",
     "output_type": "stream",
     "text": [
      "LangChain은 자연어 처리(NLP) 애플리케이션을 구축하기 위한 도구와 프레임워크를 제공하는 오픈소스 라이브러리입니다. 주로 파이썬(Python)으로 작성되어 있으며, LLM(대형 언어 모델)을 활용한 응용 프로그램을 보다 쉽게 만들고 관리할 수 있도록 설계되었습니다. LangChain의 주요 목적 중 하나는 복잡한 언어 모델을 다양한 데이터 소스 및 외부 애플리케이션과 통합하여 유용한 솔루션을 개발하는 것입니다.\n",
      "\n",
      "LangChain의 특징 및 기능은 다음과 같습니다.\n",
      "\n",
      "1. **구성 요소 모듈화**: LangChain은 여러 모듈로 구성되어 있어 필요에 따라 조합하여 사용할 수 있습니다. 이러한 모듈은 문서 로드, 전처리, 질의응답, 요약 등을 포함합니다.\n",
      "\n",
      "2. **다양한 통합**: 다양한 LLM 제공자(OpenAI, Hugging Face 등)와 데이터 소스(API, 파일 시스템, 데이터베이스 등)와의 통합을 지원합니다.\n",
      "\n",
      "3. **체인(Chain) 구성**: 서로 다른 처리 단계를 연결하여 복잡한 워크플로를 쉽게 구성할 수 있습니다. 이를 통해 다단계 처리나 파이프라인을 간단하게 구현할 수 있습니다.\n",
      "\n",
      "4. **예제 및 템플릿**: 다양한 NLP 작업에 대한 예제와 템플릿을 제공하여 개발자가 빠르게 시작할 수 있도록 돕습니다.\n",
      "\n",
      "5. **확장 가능성**: 사용자 정의 코드를 작성하여 기존 모듈을 확장하거나 새로운 기능을 추가할 수 있습니다.\n",
      "\n",
      "LangChain은 특히 질문답변 시스템, 대화형 에이전트, 문서 처리 자동화 등의 분야에서 유용하게 사용될 수 있으며, NLP 기능을 가진 애플리케이션을 빠르게 개발하려는 개발자들에게 많은 도움을 줄 수 있습니다."
     ]
    }
   ],
   "source": [
    "# 연속적으로 출력\n",
    "for chunk in llm.stream(\"LangChain에 대해 알려주세요\"):\n",
    "  print(chunk.content, end=\"\", flush=True)"
   ]
  },
  {
   "cell_type": "code",
   "execution_count": null,
   "id": "ec613198",
   "metadata": {},
   "outputs": [],
   "source": []
  }
 ],
 "metadata": {
  "kernelspec": {
   "display_name": "base",
   "language": "python",
   "name": "python3"
  },
  "language_info": {
   "codemirror_mode": {
    "name": "ipython",
    "version": 3
   },
   "file_extension": ".py",
   "mimetype": "text/x-python",
   "name": "python",
   "nbconvert_exporter": "python",
   "pygments_lexer": "ipython3",
   "version": "3.13.5"
  }
 },
 "nbformat": 4,
 "nbformat_minor": 5
}
