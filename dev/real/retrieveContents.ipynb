{
 "cells": [
  {
   "cell_type": "code",
   "execution_count": 1,
   "id": "e8539884",
   "metadata": {},
   "outputs": [
    {
     "data": {
      "text/plain": [
       "True"
      ]
     },
     "execution_count": 1,
     "metadata": {},
     "output_type": "execute_result"
    }
   ],
   "source": [
    "# 환경 변수 로드\n",
    "from dotenv import load_dotenv\n",
    "\n",
    "load_dotenv()"
   ]
  },
  {
   "cell_type": "code",
   "execution_count": 2,
   "id": "62331c60",
   "metadata": {},
   "outputs": [],
   "source": [
    "from dataclasses import dataclass\n",
    "# 데이터 정의\n",
    "## 검색어\n",
    "data = \"중국\"\n",
    "\n",
    "## 검색될 내용\n",
    "@dataclass\n",
    "class SearchResult:\n",
    "  keyword: str\n",
    "  title: str\n",
    "  link: str\n",
    "  content: str\n"
   ]
  },
  {
   "cell_type": "code",
   "execution_count": 3,
   "id": "bf00b075",
   "metadata": {},
   "outputs": [],
   "source": [
    "# 임시 데이터\n",
    "datas: list[SearchResult] = []\n",
    "datas.append(SearchResult(\n",
    "  keyword=data,\n",
    "  title=\"\"\"\"중국 손님 안 받아요\" 문구에 '발칵'…구청장 나섰다 [소셜픽]\"\"\",\n",
    "  content=\"\"\"서울 성동구의 한 카페가 인종차별 논란에 휩싸였습니다.\n",
    "\n",
    "중국인 손님을 받지 않겠다고 내걸면섭니다.\n",
    "\n",
    "이 카페의 인스타그램 소개 문구입니다.\n",
    "\n",
    "영어로 \"중국인 손님을 받지 않습니다\"라며 우는 얼굴 이모티콘을 달았습니다.\n",
    "\n",
    "중국에선 이 카페에 갔다가 쫓겨났다는 내용이 퍼지기도 했습니다.\n",
    "\n",
    "[헨리/영상 크리에이터 : 여기 한국에서 본 카페 중에 가장 인종차별적인 카페예요. 이해가 안 돼요. 왜 내 나라를 이렇게 증오하는지, 누가 이렇게 사업하라고 가르쳤나요?]\n",
    "\n",
    "소셜미디어를 중심으로 인종차별적이라는 비판이 잇따랐는데, 제재를 해야 한다는 의견에 카페가 위치한 성동구의 자치단체장도 답을 남겼습니다.\n",
    "\n",
    "정원오 구청장은 \"보내주신 우려의 마음을 저 또한 깊이 공감한다\"며 \"최대한 해당 업장을 설득해볼 수 있도록 노력하겠다\"고 밝혔습니다.\n",
    "\n",
    "이웃나라 일본에서도 비슷한 사건이 있었습니다.\n",
    "\n",
    "지난해 7월, 도쿄 오오쿠보에 있는 한 레스토랑에서는 \"다양성이나 관용으로 말이 많지만 그럴 마음이 없기 때문에 중국인과 한국인은 사절합니다\"고 적어 논란이 되기도 했습니다.\n",
    "\n",
    "[화면출처 인스타그램 'henryli4340']\n",
    "정재우 앵커 (jung.jaewoo@jtbc.co.kr)\"\"\",\n",
    "  link=\"https://n.news.naver.com/article/437/0000462099?cds=news_media_pc\"\n",
    "))"
   ]
  },
  {
   "cell_type": "code",
   "execution_count": 4,
   "id": "8cf658fe",
   "metadata": {},
   "outputs": [],
   "source": [
    "from langchain_text_splitters import RecursiveCharacterTextSplitter\n",
    "from langchain.schema import Document\n",
    "\n",
    "@dataclass\n",
    "class Metadata:\n",
    "  keyword: str\n",
    "  link: str\n",
    "\n",
    "contents: list[str] = [(\"# \" + data.title + \"\\n\" + data.content) for data in datas]\n",
    "metadatas: list[Metadata] = [\n",
    "  Metadata(\n",
    "    data.keyword,\n",
    "    data.link\n",
    "  ) for data in datas\n",
    "]"
   ]
  },
  {
   "cell_type": "code",
   "execution_count": 5,
   "id": "0e496808",
   "metadata": {},
   "outputs": [
    {
     "data": {
      "text/plain": [
       "3"
      ]
     },
     "execution_count": 5,
     "metadata": {},
     "output_type": "execute_result"
    }
   ],
   "source": [
    "# 스플리터\n",
    "# 문서 청크로 나누기\n",
    "splitter = RecursiveCharacterTextSplitter(\n",
    "  chunk_size=300,\n",
    "  chunk_overlap=50\n",
    ")\n",
    "\n",
    "docs: list[Document] = []\n",
    "\n",
    "for i in range(len(contents)):\n",
    "  splits = splitter.create_documents(\n",
    "    texts=[contents[i]],\n",
    "    metadatas=[{\n",
    "      \"keyword\":metadatas[i].keyword,\n",
    "      \"link\":metadatas[i].link,\n",
    "    }],\n",
    "  )\n",
    "  docs.extend(splits)\n",
    "len(docs)"
   ]
  },
  {
   "cell_type": "code",
   "execution_count": null,
   "id": "69b5888a",
   "metadata": {},
   "outputs": [],
   "source": [
    "# vstore 생성\n",
    "from langchain_upstage import UpstageEmbeddings\n",
    "from langchain_chroma import Chroma\n",
    "\n",
    "# 모델 선정\n",
    "vstore = Chroma(\n",
    "  collection_name=\"knowledge_base\",\n",
    "  embedding_function=UpstageEmbeddings(model=\"embedding-query\"),\n",
    "  persist_directory=\"./chroma\"\n",
    ")"
   ]
  },
  {
   "cell_type": "code",
   "execution_count": 7,
   "id": "ae45b851",
   "metadata": {},
   "outputs": [
    {
     "data": {
      "text/plain": [
       "['90aa63dd-6f3f-4523-b2df-3e9e96b2d6c0',\n",
       " '883f5066-d4e5-4786-9983-50cc74bac50a',\n",
       " '880a7918-5ec4-4d20-b6c9-6a9ae0721006']"
      ]
     },
     "execution_count": 7,
     "metadata": {},
     "output_type": "execute_result"
    }
   ],
   "source": [
    "# vstore에 문서 삽입\n",
    "vstore.add_documents(docs)"
   ]
  },
  {
   "cell_type": "code",
   "execution_count": null,
   "id": "587bef60",
   "metadata": {},
   "outputs": [],
   "source": [
    "# 프롬프트\n",
    "search_prompt=\"이 검색어는 해당 내용과 관련되어있는 것으로 보입니다. 관련이 있을 경우 참고하고, 아닌 것 같으면 무시하십시오: \"\n",
    "\n",
    "# 검색자\n",
    "retriever=vstore.as_retriever(\n",
    "  search_type=\"mmr\",\n",
    "  search_kwargs={\n",
    "    \"k\":4,\n",
    "    \"fetch_k\":20,\n",
    "    \"lambda_mult\":0.5\n",
    "  }\n",
    ")"
   ]
  },
  {
   "cell_type": "markdown",
   "id": "f11bd8c7",
   "metadata": {},
   "source": [
    "# 검색\n",
    "## mmr로만 검색했을 경우"
   ]
  },
  {
   "cell_type": "code",
   "execution_count": 16,
   "id": "a89310de",
   "metadata": {},
   "outputs": [
    {
     "name": "stdout",
     "output_type": "stream",
     "text": [
      "이 검색어는 해당 내용과 관련되어있는 것으로 보입니다. 관련이 있을 경우 참고하고, 아닌 것 같으면 무시하십시오: \n",
      "# \"중국 손님 안 받아요\" 문구에 '발칵'…구청장 나섰다 [소셜픽]\n",
      "서울 성동구의 한 카페가 인종차별 논란에 휩싸였습니다.\n",
      "\n",
      "중국인 손님을 받지 않겠다고 내걸면섭니다.\n",
      "\n",
      "이 카페의 인스타그램 소개 문구입니다.\n",
      "\n",
      "영어로 \"중국인 손님을 받지 않습니다\"라며 우는 얼굴 이모티콘을 달았습니다.\n",
      "\n",
      "중국에선 이 카페에 갔다가 쫓겨났다는 내용이 퍼지기도 했습니다.\n",
      "\n",
      "[헨리/영상 크리에이터 : 여기 한국에서 본 카페 중에 가장 인종차별적인 카페예요. 이해가 안 돼요. 왜 내 나라를 이렇게 증오하는지, 누가 이렇게 사업하라고 가르쳤나요?]\n",
      "소셜미디어를 중심으로 인종차별적이라는 비판이 잇따랐는데, 제재를 해야 한다는 의견에 카페가 위치한 성동구의 자치단체장도 답을 남겼습니다.\n",
      "\n",
      "정원오 구청장은 \"보내주신 우려의 마음을 저 또한 깊이 공감한다\"며 \"최대한 해당 업장을 설득해볼 수 있도록 노력하겠다\"고 밝혔습니다.\n",
      "\n",
      "이웃나라 일본에서도 비슷한 사건이 있었습니다.\n",
      "\n",
      "지난해 7월, 도쿄 오오쿠보에 있는 한 레스토랑에서는 \"다양성이나 관용으로 말이 많지만 그럴 마음이 없기 때문에 중국인과 한국인은 사절합니다\"고 적어 논란이 되기도 했습니다.\n",
      "[화면출처 인스타그램 'henryli4340']\n",
      "정재우 앵커 (jung.jaewoo@jtbc.co.kr)\n"
     ]
    }
   ],
   "source": [
    "search_results = retriever.get_relevant_documents(data)\n",
    "\n",
    "prompt = search_prompt\n",
    "for result in search_results:\n",
    "  prompt += (\"\\n\" + result.page_content)\n",
    "\n",
    "print(prompt)"
   ]
  },
  {
   "cell_type": "markdown",
   "id": "6e29b06b",
   "metadata": {},
   "source": [
    "## similarity랑 같이 써서 관련 없는건 컷할 경우"
   ]
  },
  {
   "cell_type": "code",
   "execution_count": null,
   "id": "f71defd2",
   "metadata": {},
   "outputs": [
    {
     "data": {
      "text/plain": [
       "[(Document(id='90aa63dd-6f3f-4523-b2df-3e9e96b2d6c0', metadata={'keyword': '중국', 'link': 'https://n.news.naver.com/article/437/0000462099?cds=news_media_pc'}, page_content='# \"중국 손님 안 받아요\" 문구에 \\'발칵\\'…구청장 나섰다 [소셜픽]\\n서울 성동구의 한 카페가 인종차별 논란에 휩싸였습니다.\\n\\n중국인 손님을 받지 않겠다고 내걸면섭니다.\\n\\n이 카페의 인스타그램 소개 문구입니다.\\n\\n영어로 \"중국인 손님을 받지 않습니다\"라며 우는 얼굴 이모티콘을 달았습니다.\\n\\n중국에선 이 카페에 갔다가 쫓겨났다는 내용이 퍼지기도 했습니다.\\n\\n[헨리/영상 크리에이터 : 여기 한국에서 본 카페 중에 가장 인종차별적인 카페예요. 이해가 안 돼요. 왜 내 나라를 이렇게 증오하는지, 누가 이렇게 사업하라고 가르쳤나요?]'),\n",
       "  1.4655797481536865),\n",
       " (Document(id='883f5066-d4e5-4786-9983-50cc74bac50a', metadata={'keyword': '중국', 'link': 'https://n.news.naver.com/article/437/0000462099?cds=news_media_pc'}, page_content='소셜미디어를 중심으로 인종차별적이라는 비판이 잇따랐는데, 제재를 해야 한다는 의견에 카페가 위치한 성동구의 자치단체장도 답을 남겼습니다.\\n\\n정원오 구청장은 \"보내주신 우려의 마음을 저 또한 깊이 공감한다\"며 \"최대한 해당 업장을 설득해볼 수 있도록 노력하겠다\"고 밝혔습니다.\\n\\n이웃나라 일본에서도 비슷한 사건이 있었습니다.\\n\\n지난해 7월, 도쿄 오오쿠보에 있는 한 레스토랑에서는 \"다양성이나 관용으로 말이 많지만 그럴 마음이 없기 때문에 중국인과 한국인은 사절합니다\"고 적어 논란이 되기도 했습니다.'),\n",
       "  1.5356216430664062),\n",
       " (Document(id='880a7918-5ec4-4d20-b6c9-6a9ae0721006', metadata={'link': 'https://n.news.naver.com/article/437/0000462099?cds=news_media_pc', 'keyword': '중국'}, page_content=\"[화면출처 인스타그램 'henryli4340']\\n정재우 앵커 (jung.jaewoo@jtbc.co.kr)\"),\n",
       "  1.755570888519287)]"
      ]
     },
     "execution_count": 42,
     "metadata": {},
     "output_type": "execute_result"
    }
   ],
   "source": [
    "data = \"중국\"\n",
    "candidates = retriever.get_relevant_documents(data)\n",
    "scored = vstore.similarity_search_with_score(data, k=20)\n",
    "\n",
    "THRESHOLD = 1.55\n",
    "filtered = [\n",
    "    doc for doc, score in scored if score <= THRESHOLD\n",
    "]\n",
    "\n",
    "# scored\n",
    "filtered"
   ]
  },
  {
   "cell_type": "code",
   "execution_count": 17,
   "id": "568746ff",
   "metadata": {},
   "outputs": [
    {
     "data": {
      "text/plain": [
       "[Document(id='90aa63dd-6f3f-4523-b2df-3e9e96b2d6c0', metadata={'keyword': '중국', 'link': 'https://n.news.naver.com/article/437/0000462099?cds=news_media_pc'}, page_content='# \"중국 손님 안 받아요\" 문구에 \\'발칵\\'…구청장 나섰다 [소셜픽]\\n서울 성동구의 한 카페가 인종차별 논란에 휩싸였습니다.\\n\\n중국인 손님을 받지 않겠다고 내걸면섭니다.\\n\\n이 카페의 인스타그램 소개 문구입니다.\\n\\n영어로 \"중국인 손님을 받지 않습니다\"라며 우는 얼굴 이모티콘을 달았습니다.\\n\\n중국에선 이 카페에 갔다가 쫓겨났다는 내용이 퍼지기도 했습니다.\\n\\n[헨리/영상 크리에이터 : 여기 한국에서 본 카페 중에 가장 인종차별적인 카페예요. 이해가 안 돼요. 왜 내 나라를 이렇게 증오하는지, 누가 이렇게 사업하라고 가르쳤나요?]'),\n",
       " Document(id='883f5066-d4e5-4786-9983-50cc74bac50a', metadata={'keyword': '중국', 'link': 'https://n.news.naver.com/article/437/0000462099?cds=news_media_pc'}, page_content='소셜미디어를 중심으로 인종차별적이라는 비판이 잇따랐는데, 제재를 해야 한다는 의견에 카페가 위치한 성동구의 자치단체장도 답을 남겼습니다.\\n\\n정원오 구청장은 \"보내주신 우려의 마음을 저 또한 깊이 공감한다\"며 \"최대한 해당 업장을 설득해볼 수 있도록 노력하겠다\"고 밝혔습니다.\\n\\n이웃나라 일본에서도 비슷한 사건이 있었습니다.\\n\\n지난해 7월, 도쿄 오오쿠보에 있는 한 레스토랑에서는 \"다양성이나 관용으로 말이 많지만 그럴 마음이 없기 때문에 중국인과 한국인은 사절합니다\"고 적어 논란이 되기도 했습니다.'),\n",
       " Document(id='880a7918-5ec4-4d20-b6c9-6a9ae0721006', metadata={'keyword': '중국', 'link': 'https://n.news.naver.com/article/437/0000462099?cds=news_media_pc'}, page_content=\"[화면출처 인스타그램 'henryli4340']\\n정재우 앵커 (jung.jaewoo@jtbc.co.kr)\")]"
      ]
     },
     "execution_count": 17,
     "metadata": {},
     "output_type": "execute_result"
    }
   ],
   "source": [
    "search_results"
   ]
  },
  {
   "cell_type": "code",
   "execution_count": null,
   "id": "9824a3b9",
   "metadata": {},
   "outputs": [],
   "source": [
    "THRESHOLD = 0.75  # 예시. 임베딩 모델에 따라 조정 필요\n",
    "\n",
    "filtered = []\n",
    "for doc in candidates:\n",
    "    # 점수를 lookup해서 붙이는 방식 필요 (id 기준 등)\n",
    "    score = score_lookup(doc)  # 구현: doc.metadata[\"link\"] 등으로 매칭\n",
    "    if score >= THRESHOLD:\n",
    "        filtered.append(doc)\n",
    "\n",
    "final_docs = filtered"
   ]
  }
 ],
 "metadata": {
  "kernelspec": {
   "display_name": "base",
   "language": "python",
   "name": "python3"
  },
  "language_info": {
   "codemirror_mode": {
    "name": "ipython",
    "version": 3
   },
   "file_extension": ".py",
   "mimetype": "text/x-python",
   "name": "python",
   "nbconvert_exporter": "python",
   "pygments_lexer": "ipython3",
   "version": "3.13.5"
  }
 },
 "nbformat": 4,
 "nbformat_minor": 5
}
