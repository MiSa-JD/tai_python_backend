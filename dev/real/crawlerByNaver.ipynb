{
 "cells": [
  {
   "cell_type": "code",
   "execution_count": null,
   "id": "19aa55c9",
   "metadata": {},
   "outputs": [],
   "source": [
    "import requests\n",
    "from bs4 import BeautifulSoup"
   ]
  },
  {
   "cell_type": "code",
   "execution_count": null,
   "id": "02bd8b13",
   "metadata": {},
   "outputs": [],
   "source": [
    "baselink_front=\"https://search.naver.com/search.naver?ssc=tab.news.all&query=\"\n",
    "baselink_back=\"&sm=tab_opt&sort=0&photo=0&field=0&pd=12&ds=&de=&docid=&related=0&mynews=0&office_type=0&office_section_code=0&news_office_checked=&nso=so%3Ar%2Cp%3Aall&is_sug_officeid=0&office_category=0&service_area=0\"\n",
    "\n",
    "def get_link(keyword: str) -> str:\n",
    "  return baselink_front + keyword + baselink_back"
   ]
  },
  {
   "cell_type": "code",
   "execution_count": null,
   "id": "7ac93f42",
   "metadata": {},
   "outputs": [],
   "source": [
    "# 헤더 설정\n",
    "CRAWLING_HEADERS = {\n",
    "    'User-Agent': 'Mozilla/5.0 (Windows NT 10.0; Win64; x64) AppleWebKit/537.36 (KHTML, like Gecko) Chrome/120.0.0.0 Safari/537.36',\n",
    "    'Accept': 'text/html,application/xhtml+xml,application/xml;q=0.9,image/avif,image/webp,image/apng,*/*;q=0.8,application/signed-exchange;v=b3;q=0.7',\n",
    "    'Accept-Language': 'ko-KR,ko;q=0.9,en-US;q=0.8,en;q=0.7',\n",
    "    'Referer': 'https://www.naver.com/' # '네이버'에서 접속한 것처럼 위장 (중요)\n",
    "}"
   ]
  },
  {
   "cell_type": "code",
   "execution_count": null,
   "id": "a53cddf5",
   "metadata": {},
   "outputs": [],
   "source": [
    "def get_full_text_from_naver(url):\n",
    "    \"\"\"\n",
    "    [V15] 네이버 뉴스(news.naver.com, n.news.naver.com) URL을 받아 본문 긁어오기 시도\n",
    "    \"\"\"\n",
    "    try:\n",
    "        response = requests.get(url, headers=CRAWLING_HEADERS, timeout=3)\n",
    "        if response.status_code != 200:\n",
    "            return None # 봇 차단 또는 오류\n",
    "        \n",
    "        soup = BeautifulSoup(response.text, 'html.parser')\n",
    "\n",
    "        \n",
    "    except requests.exceptions.RequestException:\n",
    "        return None # 접속 실패"
   ]
  }
 ],
 "metadata": {
  "kernelspec": {
   "display_name": "base",
   "language": "python",
   "name": "python3"
  },
  "language_info": {
   "name": "python",
   "version": "3.13.5"
  }
 },
 "nbformat": 4,
 "nbformat_minor": 5
}
