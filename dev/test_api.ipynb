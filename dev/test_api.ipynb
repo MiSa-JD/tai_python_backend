{
 "cells": [
  {
   "cell_type": "markdown",
   "metadata": {},
   "source": [
    "# FastAPI Notebook Test\n",
    "Use this notebook to interact with the FastAPI application defined in `app/main.py`.\n",
    "Run the setup cell once to install dependencies inside the notebook kernel."
   ]
  },
  {
   "cell_type": "code",
   "execution_count": null,
   "metadata": {},
   "outputs": [],
   "source": [
    "%pip install --quiet --disable-pip-version-check -r ../requirements.txt"
   ]
  },
  {
   "cell_type": "code",
   "execution_count": null,
   "metadata": {},
   "outputs": [],
   "source": [
    "import httpx\n",
    "from app.main import app\n",
    "\n",
    "transport = httpx.ASGITransport(app=app)\n",
    "with httpx.Client(transport=transport, base_url=\"http://testserver\") as client:\n",
    "    response = client.get(\"/ping\")\n",
    "response.json()"
   ]
  },
  {
   "cell_type": "code",
   "execution_count": null,
   "metadata": {},
   "outputs": [],
   "source": [
    "import httpx\n",
    "from app.main import app\n",
    "\n",
    "transport = httpx.ASGITransport(app=app)\n",
    "with httpx.Client(transport=transport, base_url=\"http://testserver\") as client:\n",
    "    payload = {\"item_id\": 42, \"q\": \"notebook\"}\n",
    "    response = client.get(f\"/items/{payload['item_id']}\", params={\"q\": payload['q']})\n",
    "response.json()"
   ]
  }
 ],
 "metadata": {
  "kernelspec": {
   "display_name": "Python 3",
   "language": "python",
   "name": "python3"
  },
  "language_info": {
   "name": "python",
   "pygments_lexer": "ipython3"
  }
 },
 "nbformat": 4,
 "nbformat_minor": 5
}
